{
 "cells": [
  {
   "cell_type": "code",
   "execution_count": null,
   "metadata": {},
   "outputs": [],
   "source": [
    "import pandas\n",
    "import seaborn as sns\n",
    "from itertools import product\n",
    "from typing import List\n",
    "\n",
    "sns.set_style(\"whitegrid\")\n",
    "sns.set_context(\"talk\", font_scale=1)\n",
    "sns.set_palette(\"colorblind\")\n",
    "\n",
    "\n",
    "def allocs(uppers: List[str], lowers: List[str]) -> List[str]:\n",
    "    return [u + l for (u, l) in product(uppers, lowers)]\n",
    "\n",
    "dir = \"out\"\n"
   ]
  },
  {
   "cell_type": "markdown",
   "metadata": {},
   "source": [
    "# Bulk"
   ]
  },
  {
   "cell_type": "code",
   "execution_count": null,
   "metadata": {},
   "outputs": [],
   "source": [
    "pgd = pandas.read_csv(f\"{dir}/bulk_p.csv\")\n",
    "pgd[\"cores\"] = pgd[\"x\"]\n",
    "pgd[\"get\"] = pgd[\"get_avg\"]\n",
    "pgd[\"put\"] = pgd[\"put_avg\"]\n",
    "pgd = pgd[[\"cores\", \"alloc\", \"get\", \"put\"]].melt(\n",
    "    id_vars=[\"cores\", \"alloc\"],\n",
    "    value_vars=[\"get\", \"put\"], value_name=\"time\")\n",
    "# pgd = pgd.groupby([\"cores\", \"alloc\", \"variable\", \"mem\"]).min()\n",
    "order = allocs([\"ArrayAligned\", \"ArrayAtomic\"], [\"C64\", \"C128\", \"C256\", \"C512\"])\n",
    "g = sns.relplot(data=pgd, kind=\"line\", x=\"cores\", y=\"time\",\n",
    "                col=\"variable\", style=\"alloc\", hue=\"alloc\", markers=True,\n",
    "                style_order=order, hue_order=order)\n",
    "g.set(xticks=[1, 16, 32, 48, 64, 80, 96])\n",
    "g.set(ylim=(0, 150))\n",
    "g.legend.set_title(\"Allocator\")\n",
    "g.set(ylabel=\"time in ns\")\n",
    "g.set(xlabel=\"cores\")\n",
    "g.set_titles(\"{col_name}\")\n"
   ]
  },
  {
   "cell_type": "code",
   "execution_count": null,
   "metadata": {},
   "outputs": [],
   "source": [
    "pgd = pandas.read_csv(f\"{dir}/bulk_v.csv\")\n",
    "pgd[\"cores\"] = pgd[\"x\"]\n",
    "pgd[\"get\"] = pgd[\"get_avg\"]\n",
    "pgd[\"put\"] = pgd[\"put_avg\"]\n",
    "pgd = pgd[[\"cores\", \"alloc\", \"get\", \"put\"]].melt(\n",
    "    id_vars=[\"cores\", \"alloc\"],\n",
    "    value_vars=[\"get\", \"put\"], value_name=\"time\")\n",
    "# pgd = pgd.groupby([\"cores\", \"alloc\", \"variable\"]).min()\n",
    "order = allocs([\"ArrayAligned\", \"ArrayAtomic\"], [\"C64\", \"C128\", \"C256\", \"C512\"])\n",
    "g = sns.relplot(data=pgd, kind=\"line\", x=\"cores\", y=\"time\",\n",
    "                col=\"variable\", style=\"alloc\", hue=\"alloc\", markers=True,\n",
    "                style_order=order, hue_order=order)\n",
    "g.set(xticks=[1, 16, 32, 48, 64, 80, 96])\n",
    "g.set(ylim=(0, 150))\n",
    "g.legend.set_title(\"Allocator\")\n",
    "g.set(ylabel=\"time in ns\")\n",
    "g.set(xlabel=\"cores\")\n",
    "g.set_titles(\"{col_name}\")\n"
   ]
  },
  {
   "cell_type": "markdown",
   "metadata": {},
   "source": [
    "# Random"
   ]
  },
  {
   "cell_type": "code",
   "execution_count": null,
   "metadata": {},
   "outputs": [],
   "source": [
    "vd = pandas.concat([\n",
    "    pandas.read_csv(f\"{dir}/rand_v.csv\"),\n",
    "    pandas.read_csv(\"keep/remote/kernel_rand.csv\")\n",
    "], ignore_index=True)\n",
    "vd[\"mem\"] = \"DRAM\"\n",
    "pd = data = pandas.read_csv(f\"{dir}/rand_p.csv\")\n",
    "pd[\"mem\"] = \"NVRAM\"\n",
    "data = pandas.concat([vd, pd], ignore_index=True)\n",
    "data[\"cores\"] = data[\"x\"]\n",
    "\n",
    "# data = data.groupby([\"cores\", \"alloc\", \"mem\"]).min()\n",
    "order = allocs([\"ArrayAligned\", \"ArrayAtomic\"], [\"C64\", \"C128\", \"C256\", \"C512\"]) + [\"Kernel\"]\n",
    "g = sns.relplot(data=data, x=\"x\", y=\"get_avg\", kind=\"line\",\n",
    "                style=\"alloc\", hue=\"alloc\", markers=True, col=\"mem\",\n",
    "                style_order=order, hue_order=order)\n",
    "\n",
    "g.set(xticks=[1, 16, 32, 48, 64, 80, 96])\n",
    "g.set(ylim=(0, 3000))\n",
    "# g.set(xlim=(1, 17))\n",
    "g.legend.set_title(\"Allocator\")\n",
    "g.set(xlabel=\"cores\")\n",
    "g.set(ylabel=\"time in ns\")\n",
    "g.set_titles(\"{col_name}\")\n"
   ]
  },
  {
   "cell_type": "markdown",
   "metadata": {},
   "source": [
    "# Repeat"
   ]
  },
  {
   "cell_type": "code",
   "execution_count": null,
   "metadata": {},
   "outputs": [],
   "source": [
    "vd = pandas.concat([\n",
    "    pandas.read_csv(f\"{dir}/repeat_v.csv\"),\n",
    "    pandas.read_csv(\"keep/remote/kernel_repeat.csv\")\n",
    "], ignore_index=True)\n",
    "vd[\"mem\"] = \"DRAM\"\n",
    "pd = pandas.read_csv(f\"{dir}/repeat_p.csv\")\n",
    "pd[\"mem\"] = \"NVRAM\"\n",
    "\n",
    "pgd = pandas.concat([vd, pd], ignore_index=True)\n",
    "pgd[\"cores\"] = pgd[\"x\"]\n",
    "# pgd = pgd.groupby([\"cores\", \"alloc\", \"mem\"]).min()\n",
    "\n",
    "order = allocs([\"ArrayAligned\", \"ArrayAtomic\"], [\"P\", \"C64\", \"C256\", \"C512\"]) + [\"Kernel\"]\n",
    "g = sns.relplot(data=pgd, x=\"cores\", y=\"get_avg\", kind=\"line\",\n",
    "                style=\"alloc\", hue=\"alloc\", markers=True, col=\"mem\",\n",
    "                style_order=order, hue_order=order)\n",
    "g.set(xticks=[1, 16, 32, 48, 64, 80, 96])\n",
    "g.set(ylim=(0, 260))\n",
    "g.legend.set_title(\"Allocator\")\n",
    "g.set_titles(\"{col_name}\")\n",
    "g.set(xlabel=\"cores\")\n",
    "g.set(ylabel=\"time in ns\")\n"
   ]
  }
 ],
 "metadata": {
  "kernelspec": {
   "display_name": "Python 3.10.4 64-bit",
   "language": "python",
   "name": "python3"
  },
  "language_info": {
   "codemirror_mode": {
    "name": "ipython",
    "version": 3
   },
   "file_extension": ".py",
   "mimetype": "text/x-python",
   "name": "python",
   "nbconvert_exporter": "python",
   "pygments_lexer": "ipython3",
   "version": "3.10.4"
  },
  "orig_nbformat": 4,
  "vscode": {
   "interpreter": {
    "hash": "31f2aee4e71d21fbe5cf8b01ff0e069b9275f58929596ceb00d14d90e3e16cd6"
   }
  }
 },
 "nbformat": 4,
 "nbformat_minor": 2
}
