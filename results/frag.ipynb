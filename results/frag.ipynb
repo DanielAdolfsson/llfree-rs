{
 "cells": [
  {
   "cell_type": "code",
   "execution_count": null,
   "metadata": {},
   "outputs": [],
   "source": [
    "import pandas as pd\n",
    "import seaborn as sns\n",
    "import matplotlib.pyplot as plt\n",
    "from matplotlib import cm\n",
    "from matplotlib import colors\n",
    "from typing import Tuple\n",
    "\n",
    "sns.set_style(\"whitegrid\")\n",
    "sns.set_context(\"poster\", font_scale=0.75)\n",
    "sns.set_palette(\"colorblind\")\n",
    "\n",
    "def cscale(rgba: Tuple[float, float, float, float], m: float) -> Tuple[float, float, float, float]:\n",
    "    return (rgba[0] * m, rgba[1] * m, rgba[2] * m, rgba[3])\n",
    "\n",
    "\n",
    "def cmap_extreme(map: colors.Colormap) -> colors.Colormap:\n",
    "    class Wrap(colors.Colormap):\n",
    "        def __init__(self, cmap: colors.Colormap):\n",
    "            self.cmap = cmap\n",
    "        def __getattr__(self, name):\n",
    "            if name == \"cmap\": return self.cmap\n",
    "            return getattr(self.cmap, name)\n",
    "        def __eq__(self, other):\n",
    "            self.cmap.__eq__(other)\n",
    "        def __copy__(self):\n",
    "            Wrap(self.cmap.__copy__())\n",
    "        def __call__(self, X, alpha=None, bytes=False):\n",
    "            if isinstance(X, float):\n",
    "                if X <= 0:\n",
    "                    return self.cmap(X - 1.0, alpha, bytes)\n",
    "                if X >= 1.0:\n",
    "                    return self.cmap(X + 1.0, alpha, bytes)\n",
    "            return self.cmap(X, alpha, bytes)\n",
    "    \n",
    "    return Wrap(map.with_extremes(\n",
    "        under=cscale(map(-1.0), 0.5), over=cscale(map(2.0), 0.5)))\n"
   ]
  },
  {
   "cell_type": "code",
   "execution_count": null,
   "metadata": {},
   "outputs": [],
   "source": [
    "data = pd.read_csv(\"frag.csv\", index_col=[\"i\"])\n",
    "per_huge = data[[*data.columns[2:]]]\n",
    "buckets = per_huge.apply(pd.value_counts, axis=1).fillna(0)\n",
    "\n",
    "fix, ax = plt.subplots()\n",
    "fix.set_figwidth(10)\n",
    "fix.set_figheight(6)\n",
    "fix.set_facecolor(\"white\")\n",
    "\n",
    "cmap = cmap_extreme(sns.color_palette(\"Spectral\", as_cmap=True, n_colors=10))\n",
    "\n",
    "buckets.plot.area(ax=ax, xlim=(0, 100), xlabel=\"iteration (N*0.05 reallocations)\",\n",
    "               ylabel=\"huge pages\", yticks=[], legend=False, colormap=cmap)\n",
    "plt.colorbar(cm.ScalarMappable(cmap=cmap), ax=ax, extend=\"both\",\n",
    "             label=\"ratio of free pages per huge page\")"
   ]
  },
  {
   "cell_type": "code",
   "execution_count": null,
   "metadata": {},
   "outputs": [],
   "source": [
    "data = pd.read_csv(\"frag.csv\", index_col=[\"i\"])\n",
    "per_huge = data[[*data.columns[2:]]]\n",
    "buckets = per_huge.apply(pd.value_counts, axis=1).fillna(0)\n",
    "\n",
    "fix, ax = plt.subplots()\n",
    "fix.set_figwidth(10)\n",
    "fix.set_figheight(6)\n",
    "fix.set_facecolor(\"white\")\n",
    "\n",
    "cmap = cmap_extreme(sns.color_palette(\"Spectral\", as_cmap=True, n_colors=10))\n",
    "\n",
    "buckets.plot.area(ax=ax, xlim=(0, 100), xlabel=\"iteration (N*0.05 reallocations)\",\n",
    "                  ylabel=\"huge pages\", yticks=[], legend=False, colormap=cmap)\n",
    "plt.colorbar(cm.ScalarMappable(cmap=cmap), ax=ax, extend=\"both\",\n",
    "             label=\"ratio of free pages per huge page\")\n"
   ]
  },
  {
   "cell_type": "code",
   "execution_count": null,
   "metadata": {},
   "outputs": [],
   "source": [
    "# Heatmap Array\n",
    "fix, ax = plt.subplots()\n",
    "fix.set_figwidth(20)\n",
    "fix.set_figheight(12)\n",
    "fix.set_facecolor(\"white\")\n",
    "\n",
    "cmap = cmap_extreme(sns.color_palette(\"Spectral\", as_cmap=True, n_colors=10))\n",
    "\n",
    "data = pd.read_csv(\"frag.csv\", index_col=[\"i\"])\n",
    "per_huge = data[[*data.columns[2:]]].T\n",
    "\n",
    "plot = sns.heatmap(per_huge, ax=ax, cmap=cmap,\n",
    "                   yticklabels=2*1024, xticklabels=10)\n",
    "plot.set(ylabel=\"Huge pages\")\n",
    "plot.set(xlabel=\"iteration\")\n"
   ]
  },
  {
   "cell_type": "code",
   "execution_count": null,
   "metadata": {},
   "outputs": [],
   "source": [
    "# Heatmap Array\n",
    "fix, ax = plt.subplots()\n",
    "fix.set_figwidth(20)\n",
    "fix.set_figheight(12)\n",
    "fix.set_facecolor(\"white\")\n",
    "\n",
    "cmap = cmap_extreme(sns.color_palette(\"Spectral\", as_cmap=True, n_colors=10))\n",
    "\n",
    "data = pd.read_csv(\"frag.csv\", index_col=[\"i\"])\n",
    "per_huge = data[[*data.columns[2:]]].T\n",
    "\n",
    "plot = sns.heatmap(per_huge, ax=ax, cmap=cmap,\n",
    "                   yticklabels=2*1024, xticklabels=10)\n",
    "plot.set(ylabel=\"Huge pages\")\n",
    "plot.set(xlabel=\"iteration\")\n"
   ]
  }
 ],
 "metadata": {
  "kernelspec": {
   "display_name": "Python 3.9.2 64-bit",
   "language": "python",
   "name": "python3"
  },
  "language_info": {
   "codemirror_mode": {
    "name": "ipython",
    "version": 3
   },
   "file_extension": ".py",
   "mimetype": "text/x-python",
   "name": "python",
   "nbconvert_exporter": "python",
   "pygments_lexer": "ipython3",
   "version": "3.9.2"
  },
  "orig_nbformat": 4,
  "vscode": {
   "interpreter": {
    "hash": "e7370f93d1d0cde622a1f8e1c04877d8463912d04d973331ad4851f04de6915a"
   }
  }
 },
 "nbformat": 4,
 "nbformat_minor": 2
}
