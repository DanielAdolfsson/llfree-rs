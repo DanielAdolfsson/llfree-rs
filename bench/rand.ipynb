{
 "cells": [
  {
   "cell_type": "code",
   "execution_count": null,
   "metadata": {},
   "outputs": [],
   "source": [
    "import pandas\n",
    "import seaborn as sns\n",
    "\n",
    "sns.set_style(\"whitegrid\")\n",
    "sns.set_context(\"poster\", font_scale=0.75)\n",
    "sns.set_palette(\"colorblind\")\n",
    "\n",
    "alloc_order = [\"Table\", \"ArrayAligned\", \"ArrayLocked\", \"ArrayAtomic\", \"ListLocal\", \"ListLocked\", \"Kernel\"]"
   ]
  },
  {
   "cell_type": "markdown",
   "metadata": {},
   "source": [
    "# Local Benchmarks"
   ]
  },
  {
   "cell_type": "markdown",
   "metadata": {},
   "source": [
    "## 4K Pages"
   ]
  },
  {
   "cell_type": "code",
   "execution_count": null,
   "metadata": {},
   "outputs": [],
   "source": [
    "pgd = pandas.concat([\n",
    "    pandas.read_csv(\"out/rand.csv\"),\n",
    "    pandas.read_csv(\"keep/kernel_rand.csv\"),\n",
    "], ignore_index=True)\n",
    "g = sns.lineplot(data=pgd, x=\"x\", y=\"get_avg\",\n",
    "                 style=\"alloc\", hue=\"alloc\", markers=True, legend=False,\n",
    "                 style_order=alloc_order, hue_order=alloc_order)\n",
    "g.set(xticks=[1, 2, 4, 6, 8, 10])\n",
    "g.set(ylim=(0, 1600))\n",
    "g.set(xlabel=\"threads\")\n",
    "g.set(ylabel=\"time in ns\")\n"
   ]
  },
  {
   "cell_type": "code",
   "execution_count": null,
   "metadata": {},
   "outputs": [],
   "source": [
    "pgd = pandas.concat([\n",
    "    pandas.read_csv(\"out/rand.csv\"),\n",
    "    pandas.read_csv(\"keep/kernel_rand.csv\"),\n",
    "], ignore_index=True)\n",
    "pgd[\"get_avg\"] = 10**9 / (pgd[\"get_avg\"] / 2)\n",
    "g = sns.lineplot(data=pgd, x=\"x\", y=\"get_avg\",\n",
    "                 style=\"alloc\", hue=\"alloc\", markers=True,\n",
    "                 style_order=alloc_order, hue_order=alloc_order)\n",
    "g.set(xticks=[1, 2, 4, 6, 8, 10])\n",
    "# g.set(ylim=(0, 1600))\n",
    "g.set(xlabel=\"threads\")\n",
    "g.set(ylabel=\"IO operations / thread / s\")\n",
    "g.legend(ncol=2)\n"
   ]
  },
  {
   "cell_type": "markdown",
   "metadata": {},
   "source": [
    "## 2M Pages"
   ]
  },
  {
   "cell_type": "code",
   "execution_count": null,
   "metadata": {},
   "outputs": [],
   "source": [
    "pgd = pandas.read_csv(\"old/rand_s1.csv\")\n",
    "g = sns.lineplot(data=pgd, x=\"x\", y=\"get_avg\",\n",
    "                 style=\"alloc\", hue=\"alloc\", markers=True,\n",
    "                 style_order=alloc_order, hue_order=alloc_order)\n",
    "g.set(xticks=[1, 2, 4, 6, 8, 10])\n",
    "# g.set(ylim=(0, 1600))\n",
    "g.set(xlabel=\"threads\")\n",
    "g.set(ylabel=\"time in ns\")\n",
    "g.legend(ncol=2)\n"
   ]
  },
  {
   "cell_type": "markdown",
   "metadata": {},
   "source": [
    "# Server Benchmarks"
   ]
  },
  {
   "cell_type": "code",
   "execution_count": null,
   "metadata": {},
   "outputs": [],
   "source": [
    "vd = pandas.concat([\n",
    "    pandas.read_csv(\"remote/rand_v.csv\"),\n",
    "    pandas.read_csv(\"remote/kernel_rand.csv\")\n",
    "], ignore_index=True)\n",
    "vd[\"NVM\"] = False\n",
    "\n",
    "pd = pgd = pandas.read_csv(\"remote/rand_p.csv\")\n",
    "pd[\"NVM\"] = True\n",
    "\n",
    "pgd = pandas.concat([vd, pd], ignore_index=True)\n",
    "pgd[\"threads\"] = pgd[\"x\"]\n",
    "\n",
    "pgd = pgd.groupby([\"threads\", \"alloc\", \"NVM\"]).min()\n",
    "g = sns.relplot(data=pgd, x=\"x\", y=\"get_avg\", kind=\"line\",\n",
    "                style=\"alloc\", hue=\"alloc\", markers=True,\n",
    "                col=\"NVM\",\n",
    "                style_order=alloc_order, hue_order=alloc_order)\n",
    "\n",
    "g.set(xticks=[1, 16, 32, 48, 64, 80, 96])\n",
    "g.set(ylim=(0, 100000))\n",
    "g.legend.set_title(\"Allocator\")\n",
    "g.set(xlabel=\"threads\")\n",
    "g.set(ylabel=\"time in ns\")\n",
    "g.savefig(\"../../text/thesis/plot/rand.pdf\")\n"
   ]
  },
  {
   "cell_type": "code",
   "execution_count": null,
   "metadata": {},
   "outputs": [],
   "source": [
    "pgd = pandas.concat([\n",
    "    pandas.read_csv(\"remote/rand_v.csv\"),\n",
    "    pandas.read_csv(\"remote/kernel_rand.csv\")\n",
    "], ignore_index=True)\n",
    "# pgd = pgd.groupby([\"x\", \"alloc\"]).min()\n",
    "g = sns.lineplot(data=pgd, x=\"x\", y=\"get_avg\",\n",
    "                 style=\"alloc\", hue=\"alloc\", markers=True,\n",
    "                 style_order=alloc_order, hue_order=alloc_order)\n",
    "g.set(xticks=[1, 4, 8, 12, 16])\n",
    "g.set(ylim=(0, 7500))\n",
    "g.set(xlim=(0, 17))\n",
    "g.legend(ncol=2)\n",
    "g.set(xlabel=\"threads\")\n",
    "g.set(ylabel=\"time in ns\")\n"
   ]
  }
 ],
 "metadata": {
  "interpreter": {
   "hash": "916dbcbb3f70747c44a77c7bcd40155683ae19c65e1c03b4aa3499c5328201f1"
  },
  "kernelspec": {
   "display_name": "Python 3",
   "language": "python",
   "name": "python3"
  },
  "language_info": {
   "codemirror_mode": {
    "name": "ipython",
    "version": 3
   },
   "file_extension": ".py",
   "mimetype": "text/x-python",
   "name": "python",
   "nbconvert_exporter": "python",
   "pygments_lexer": "ipython3",
   "version": "3.10.2"
  },
  "orig_nbformat": 4
 },
 "nbformat": 4,
 "nbformat_minor": 2
}
