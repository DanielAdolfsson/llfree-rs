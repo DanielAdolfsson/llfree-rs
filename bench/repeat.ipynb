{
 "cells": [
  {
   "cell_type": "code",
   "execution_count": null,
   "metadata": {},
   "outputs": [],
   "source": [
    "import pandas\n",
    "import seaborn as sns\n",
    "\n",
    "sns.set_style(\"whitegrid\")\n",
    "sns.set_context(\"poster\", font_scale=0.75)\n",
    "sns.set_palette(\"colorblind\")\n",
    "\n",
    "alloc_order = [\"Table\", \"ArrayAligned\", \"ArrayLocked\", \"ArrayAtomic\", \"ListLocal\", \"ListLocked\", \"Kernel\"]"
   ]
  },
  {
   "cell_type": "markdown",
   "metadata": {},
   "source": [
    "# Local Benchmarks"
   ]
  },
  {
   "cell_type": "markdown",
   "metadata": {},
   "source": [
    "## 4K Pages"
   ]
  },
  {
   "cell_type": "code",
   "execution_count": null,
   "metadata": {},
   "outputs": [],
   "source": [
    "pgd = pandas.concat([\n",
    "    pandas.read_csv(\"out/repeat.csv\"),\n",
    "    pandas.read_csv(\"keep/kernel_repeat.csv\"),\n",
    "], ignore_index=True)\n",
    "g = sns.lineplot(data=pgd, x=\"x\", y=\"get_avg\",\n",
    "                 style=\"alloc\", hue=\"alloc\", markers=True,\n",
    "                 style_order=alloc_order, hue_order=alloc_order)\n",
    "g.set(xticks=[1, 2, 4, 6, 8, 10])\n",
    "g.set(ylim=(0, 300))\n",
    "g.set(xlabel=\"cores\")\n",
    "g.set(ylabel=\"time in ns\")\n",
    "g.legend(ncol=2)\n"
   ]
  },
  {
   "cell_type": "code",
   "execution_count": null,
   "metadata": {},
   "outputs": [],
   "source": [
    "pgd = pandas.concat([\n",
    "    pandas.read_csv(\"out/repeat.csv\"),\n",
    "    pandas.read_csv(\"keep/kernel_repeat.csv\"),\n",
    "], ignore_index=True)\n",
    "# print(\"allocs:\", pgd[\"allocs\"][0])\n",
    "pgd[\"get_avg\"] = 10**9 / (pgd[\"get_avg\"] / 2)\n",
    "g = sns.lineplot(data=pgd, x=\"x\", y=\"get_avg\", style=\"alloc\",\n",
    "                 hue=\"alloc\", markers=True,\n",
    "                 style_order=alloc_order, hue_order=alloc_order)\n",
    "g.set(xticks=[1, 2, 4, 6, 8, 10])\n",
    "g.set(xlabel=\"cores\")\n",
    "g.set(ylabel=\"IO operations / thread / s\")\n",
    "g.legend(ncol=2)\n"
   ]
  },
  {
   "cell_type": "markdown",
   "metadata": {},
   "source": [
    "## 2M Pages"
   ]
  },
  {
   "cell_type": "code",
   "execution_count": null,
   "metadata": {},
   "outputs": [],
   "source": [
    "pgd = pandas.read_csv(\"old/repeat_s1.csv\")\n",
    "g = sns.lineplot(data=pgd, x=\"x\", y=\"get_avg\",\n",
    "                 style=\"alloc\", hue=\"alloc\", markers=True,\n",
    "                 style_order=alloc_order, hue_order=alloc_order)\n",
    "g.set(xticks=[1, 2, 4, 6, 8, 10])\n",
    "# g.set(ylim=(0, 100))\n",
    "g.set(xlabel=\"cores\")\n",
    "g.set(ylabel=\"time in ns\")\n",
    "g.legend(ncol=2)\n"
   ]
  },
  {
   "cell_type": "markdown",
   "metadata": {},
   "source": [
    "# Server Benchmarks"
   ]
  },
  {
   "cell_type": "code",
   "execution_count": null,
   "metadata": {},
   "outputs": [],
   "source": [
    "\n",
    "vd = pandas.concat([\n",
    "    pandas.read_csv(\"remote/repeat_v.csv\"),\n",
    "    pandas.read_csv(\"keep/remote/kernel_repeat.csv\")\n",
    "], ignore_index=True)\n",
    "vd[\"mem\"] = \"DRAM\"\n",
    "pd = pandas.read_csv(\"remote/repeat_p.csv\")\n",
    "pd[\"mem\"] = \"NVRAM\"\n",
    "\n",
    "pgd = pandas.concat([vd, pd], ignore_index=True)\n",
    "pgd[\"cores\"] = pgd[\"x\"]\n",
    "\n",
    "# pgd = pgd.groupby([\"cores\", \"alloc\", \"mem\"]).min()\n",
    "g = sns.relplot(data=pgd, x=\"cores\", y=\"get_avg\", kind=\"line\",\n",
    "                style=\"alloc\", hue=\"alloc\", markers=True, col=\"mem\",\n",
    "                style_order=alloc_order, hue_order=alloc_order)\n",
    "g.set(xticks=[1, 16, 32, 48, 64, 80, 96])\n",
    "g.set(ylim=(0, 300))\n",
    "g.legend.set_title(\"Allocator\")\n",
    "g.set_titles(\"{col_name}\")\n",
    "g.set(xlabel=\"cores\")\n",
    "g.set(ylabel=\"time in ns\")\n",
    "g.savefig(\"../../text/thesis/plot/repeat.pdf\")\n"
   ]
  },
  {
   "cell_type": "code",
   "execution_count": null,
   "metadata": {},
   "outputs": [],
   "source": [
    "pd = pandas.read_csv(\"remote/repeat_p.csv\")\n",
    "pd[\"mem\"] = \"NVRAM\"\n",
    "\n",
    "vd = pandas.concat([\n",
    "    pandas.read_csv(\"remote/repeat_v.csv\"),\n",
    "    pandas.read_csv(\"keep/remote/kernel_repeat.csv\")\n",
    "], ignore_index=True)\n",
    "vd[\"mem\"] = \"DRAM\"\n",
    "\n",
    "pgd = pandas.concat([pd, vd], ignore_index=True)\n",
    "pgd[\"cores\"] = pgd[\"x\"]\n",
    "\n",
    "order = [\"Table\", \"ArrayAtomic\", \"ListLocal\", \"Kernel\"]\n",
    "# pgd = pgd.groupby([\"cores\", \"alloc\", \"mem\"]).min()\n",
    "g = sns.relplot(data=pgd, x=\"cores\", y=\"get_avg\", kind=\"line\",\n",
    "                style=\"alloc\", hue=\"alloc\", markers=True, col=\"mem\",\n",
    "                style_order=order, hue_order=order)\n",
    "g.set(xticks=[1, 16, 32, 48, 64, 80, 96])\n",
    "g.set(ylim=(0, 300))\n",
    "g.legend.set_title(\"Allocator\")\n",
    "g.set_titles(\"{col_name}\")\n",
    "g.set(xlabel=\"cores\")\n",
    "g.set(ylabel=\"time in ns\")\n",
    "g.savefig(\"../../presentation/plot/repeat.pdf\")\n"
   ]
  }
 ],
 "metadata": {
  "interpreter": {
   "hash": "916dbcbb3f70747c44a77c7bcd40155683ae19c65e1c03b4aa3499c5328201f1"
  },
  "kernelspec": {
   "display_name": "Python 3",
   "language": "python",
   "name": "python3"
  },
  "language_info": {
   "codemirror_mode": {
    "name": "ipython",
    "version": 3
   },
   "file_extension": ".py",
   "mimetype": "text/x-python",
   "name": "python",
   "nbconvert_exporter": "python",
   "pygments_lexer": "ipython3",
   "version": "3.10.2"
  },
  "orig_nbformat": 4
 },
 "nbformat": 4,
 "nbformat_minor": 2
}
