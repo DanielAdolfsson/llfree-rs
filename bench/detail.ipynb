{
 "cells": [
  {
   "cell_type": "code",
   "execution_count": null,
   "metadata": {},
   "outputs": [],
   "source": [
    "import seaborn as sns\n",
    "import pandas\n",
    "\n",
    "sns.set(style=\"ticks\")\n",
    "sns.set_style(\"darkgrid\")\n",
    "sns.set(rc={\"figure.figsize\":(12, 10)})\n"
   ]
  },
  {
   "cell_type": "code",
   "execution_count": null,
   "metadata": {},
   "outputs": [],
   "source": [
    "data = pandas.read_csv(\"out/detail.csv\")\n",
    "\n",
    "dfm = data[data[\"op\"] == \"get\"]\n",
    "dfm = data[[\"num\", \"avg\", \"std\", \"min\", \"max\"]].melt(\n",
    "    \"num\", var_name=\"measurements\", value_name=\"time\")\n",
    "ax = sns.lineplot(data=dfm, x=\"num\", y=\"time\", hue=\"measurements\")\n",
    "ax.set_yscale(\"log\")\n",
    "ax.set_ylabel(\"time in ns\")\n"
   ]
  }
 ],
 "metadata": {
  "interpreter": {
   "hash": "31f2aee4e71d21fbe5cf8b01ff0e069b9275f58929596ceb00d14d90e3e16cd6"
  },
  "kernelspec": {
   "display_name": "Python 3",
   "language": "python",
   "name": "python3"
  },
  "language_info": {
   "codemirror_mode": {
    "name": "ipython",
    "version": 3
   },
   "file_extension": ".py",
   "mimetype": "text/x-python",
   "name": "python",
   "nbconvert_exporter": "python",
   "pygments_lexer": "ipython3",
   "version": "3.10.2"
  },
  "orig_nbformat": 4
 },
 "nbformat": 4,
 "nbformat_minor": 2
}
