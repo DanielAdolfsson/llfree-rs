{
 "cells": [
  {
   "cell_type": "code",
   "execution_count": null,
   "metadata": {},
   "outputs": [],
   "source": [
    "import pandas\n",
    "\n",
    "data = pandas.read_csv(\"bench.csv\")\n",
    "data"
   ]
  },
  {
   "cell_type": "code",
   "execution_count": null,
   "metadata": {},
   "outputs": [],
   "source": [
    "import matplotlib.pyplot as plt\n",
    "\n",
    "allocs = [[\"TableAlloc\", \"r\"], [\"StackAlloc\", \"g\"], [\"LocalListAlloc\", \"b\"]]\n",
    "\n",
    "for [alloc, fmt] in allocs:\n",
    "    a = data[data[\"alloc\"] == alloc]\n",
    "    plt.plot(a[\"threads\"], a[\"get_avg\"], fmt + \"-\")\n",
    "    plt.plot(a[\"threads\"], a[\"put_avg\"], fmt + \"--\")\n",
    "\n",
    "plt.axis([1, 6, 0, 1700])\n",
    "plt.xlabel(\"Threads\")\n",
    "plt.ylabel(\"Cycles\")\n",
    "plt.show()"
   ]
  },
  {
   "cell_type": "code",
   "execution_count": null,
   "metadata": {},
   "outputs": [],
   "source": [
    "import seaborn as sns\n",
    "\n",
    "sns.lineplot(data=data, x=\"threads\", y=\"get_avg\", hue=\"alloc\", style=\"alloc\", markers=True, dashes=False)"
   ]
  }
 ],
 "metadata": {
  "interpreter": {
   "hash": "916dbcbb3f70747c44a77c7bcd40155683ae19c65e1c03b4aa3499c5328201f1"
  },
  "kernelspec": {
   "display_name": "Python 3.9.5 64-bit",
   "language": "python",
   "name": "python3"
  },
  "language_info": {
   "codemirror_mode": {
    "name": "ipython",
    "version": 3
   },
   "file_extension": ".py",
   "mimetype": "text/x-python",
   "name": "python",
   "nbconvert_exporter": "python",
   "pygments_lexer": "ipython3",
   "version": "3.9.7"
  },
  "orig_nbformat": 4
 },
 "nbformat": 4,
 "nbformat_minor": 2
}
