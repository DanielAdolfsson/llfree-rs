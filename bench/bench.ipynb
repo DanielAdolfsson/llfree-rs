{
 "cells": [
  {
   "cell_type": "code",
   "execution_count": null,
   "metadata": {},
   "outputs": [],
   "source": [
    "import pandas\n",
    "import seaborn as sns\n",
    "import matplotlib as plt\n",
    "\n",
    "sns.set(style=\"ticks\")\n",
    "sns.set_style(\"darkgrid\")\n",
    "# sns.set_context(\"paper\")\n",
    "sns.set_palette(\"colorblind\")\n"
   ]
  },
  {
   "cell_type": "markdown",
   "metadata": {},
   "source": [
    "# Local Benchmarks"
   ]
  },
  {
   "cell_type": "code",
   "execution_count": null,
   "metadata": {},
   "outputs": [],
   "source": [
    "pgd = pandas.concat([\n",
    "    pandas.read_csv(\"out/bench.csv\"),\n",
    "    pandas.read_csv(\"out/kernel.csv\"),\n",
    "])\n",
    "print(\"allocs:\", pgd[\"allocs\"][0])\n",
    "pgd = pgd[[\"threads\", \"alloc\", \"get_avg\", \"put_avg\"]\n",
    "          ].melt(id_vars=[\"threads\", \"alloc\"], value_vars=[\"get_avg\", \"put_avg\"], value_name=\"time\")\n",
    "g = sns.relplot(data=pgd, kind=\"line\", x=\"threads\", y=\"time\",\n",
    "                col=\"variable\", style=\"alloc\", hue=\"alloc\", markers=True)\n",
    "g.set(xticks=[1, 2, 4, 6, 8, 10])\n",
    "g.set(ylim=(0, 400))\n",
    "g.set(ylabel=\"time in ns\")\n",
    "g.set_titles(\"{col_name}\")\n"
   ]
  },
  {
   "cell_type": "code",
   "execution_count": null,
   "metadata": {},
   "outputs": [],
   "source": [
    "pgd = pandas.concat([\n",
    "    pandas.read_csv(\"out/bench.csv\"),\n",
    "    pandas.read_csv(\"out/kernel.csv\"),\n",
    "])\n",
    "pgd[\"get_avg\"] = 10**9 / pgd[\"get_avg\"]\n",
    "pgd[\"put_avg\"] = 10**9 / pgd[\"put_avg\"]\n",
    "pgd = pgd[[\"threads\", \"alloc\", \"get_avg\", \"put_avg\"]\n",
    "          ].melt(id_vars=[\"threads\", \"alloc\"], value_vars=[\"get_avg\", \"put_avg\"], value_name=\"ops\")\n",
    "g = sns.relplot(data=pgd, kind=\"line\", x=\"threads\", y=\"ops\",\n",
    "                col=\"variable\", style=\"alloc\", hue=\"alloc\", markers=True)\n",
    "g.set(xticks=[1, 2, 4, 6, 8, 10])\n",
    "g.set(ylabel=\"IO operations / thread / s\")\n",
    "g.set_titles(\"{col_name}\")\n"
   ]
  },
  {
   "cell_type": "code",
   "execution_count": null,
   "metadata": {},
   "outputs": [],
   "source": [
    "pgd = pandas.read_csv(\"out/bench_o.csv\")\n",
    "pgd = pgd[[\"threads\", \"alloc\", \"get_avg\", \"put_avg\"]\n",
    "          ].melt(id_vars=[\"threads\", \"alloc\"], value_vars=[\"get_avg\", \"put_avg\"], value_name=\"time\")\n",
    "g = sns.relplot(data=pgd, kind=\"line\", x=\"threads\", y=\"time\",\n",
    "                col=\"variable\", style=\"alloc\", hue=\"alloc\", markers=True)\n",
    "g.set(xticks=[1, 2, 4, 6, 8, 10])\n",
    "g.set(ylim=(0, 400))\n",
    "g.set(ylabel=\"time in ns\")\n",
    "g.set_titles(\"{col_name}\")\n"
   ]
  },
  {
   "cell_type": "code",
   "execution_count": null,
   "metadata": {},
   "outputs": [],
   "source": [
    "pgd = pandas.read_csv(\"out/bench_r.csv\")\n",
    "g = sns.lineplot(data=pgd, x=\"threads\", y=\"get_avg\", style=\"alloc\", hue=\"alloc\", markers=True)\n",
    "g.set(xticks=[1, 2, 4, 6, 8, 10])\n",
    "g.set(ylim=(0, 150))\n",
    "g.set(ylabel=\"time in ns\")\n",
    "g.legend(ncol=2)"
   ]
  },
  {
   "cell_type": "code",
   "execution_count": null,
   "metadata": {},
   "outputs": [],
   "source": [
    "pgd = pandas.read_csv(\"out/bench_r.csv\")\n",
    "print(\"allocs:\", pgd[\"allocs\"][0])\n",
    "pgd[\"get_avg\"] = 10**9 / (pgd[\"get_avg\"] / 2)\n",
    "g = sns.lineplot(data=pgd, x=\"threads\", y=\"get_avg\", style=\"alloc\", hue=\"alloc\", markers=True)\n",
    "g.set(xticks=[1, 2, 4, 6, 8, 10])\n",
    "g.set(ylabel=\"IO operations / thread / s\")\n",
    "g.legend(ncol=2)\n"
   ]
  },
  {
   "cell_type": "code",
   "execution_count": null,
   "metadata": {},
   "outputs": [],
   "source": [
    "pgd = pandas.read_csv(\"out/bench_ro.csv\")\n",
    "g = sns.lineplot(data=pgd, x=\"threads\", y=\"get_avg\",\n",
    "                 style=\"alloc\", hue=\"alloc\", markers=True)\n",
    "g.set(xticks=[1, 2, 4, 6, 8, 10])\n",
    "g.set(ylim=(0, 500))\n",
    "g.set(ylabel=\"time in ns\")\n",
    "g.legend(ncol=2)\n"
   ]
  },
  {
   "cell_type": "markdown",
   "metadata": {},
   "source": [
    "# Server Benchmarks"
   ]
  },
  {
   "cell_type": "code",
   "execution_count": null,
   "metadata": {},
   "outputs": [],
   "source": [
    "pgd = pandas.read_csv(\"remote/bench_s2.csv\")\n",
    "pgd = pgd[[\"threads\", \"alloc\", \"get_avg\", \"put_avg\"]\n",
    "          ].melt(id_vars=[\"threads\", \"alloc\"], value_vars=[\"get_avg\", \"put_avg\"], value_name=\"cycles\")\n",
    "g = sns.relplot(data=pgd, kind=\"line\", x=\"threads\", y=\"cycles\",\n",
    "                col=\"variable\", style=\"alloc\", hue=\"alloc\", markers=True)\n",
    "g.set(xticks=[8, 16, 24, 32, 40, 48, 56, 64, 72, 80, 88, 96])\n",
    "g.set(ylim=(0, 3000))\n"
   ]
  },
  {
   "cell_type": "code",
   "execution_count": null,
   "metadata": {},
   "outputs": [],
   "source": [
    "pgd = pandas.concat([\n",
    "    pandas.read_csv(\"remote/bench_s2_d.csv\"),\n",
    "    pandas.read_csv(\"remote/kernel_d.csv\")\n",
    "])\n",
    "pgd = pgd[[\"threads\", \"alloc\", \"get_avg\", \"put_avg\"]\n",
    "          ].melt(id_vars=[\"threads\", \"alloc\"], value_vars=[\"get_avg\", \"put_avg\"], value_name=\"cycles\")\n",
    "g = sns.relplot(data=pgd, kind=\"line\", x=\"threads\", y=\"cycles\",\n",
    "                col=\"variable\", style=\"alloc\", hue=\"alloc\", markers=True)\n",
    "g.set(xticks=[8, 16, 24, 32, 40, 48, 56, 64, 72, 80, 88, 96])\n"
   ]
  },
  {
   "cell_type": "code",
   "execution_count": null,
   "metadata": {},
   "outputs": [],
   "source": [
    "pgd = pandas.read_csv(\"remote/bench_s2_r.csv\")\n",
    "g = sns.lineplot(data=pgd, x=\"threads\", y=\"get_avg\",\n",
    "                style=\"alloc\", hue=\"alloc\", markers=True)\n",
    "g.set(xticks=[8, 16, 24, 32, 40, 48, 56, 64, 72, 80, 88, 96])\n",
    "g.set(ylim=(0, 400))\n",
    "g.legend(ncol=2)\n",
    "g.set(ylabel=\"time in ns\")\n"
   ]
  },
  {
   "cell_type": "code",
   "execution_count": null,
   "metadata": {},
   "outputs": [],
   "source": [
    "pgd = pandas.concat([\n",
    "    pandas.read_csv(\"remote/bench_s2_rd.csv\"),\n",
    "    pandas.read_csv(\"remote/kernel_rd.csv\")\n",
    "])\n",
    "g = sns.lineplot(data=pgd, x=\"threads\", y=\"get_avg\",\n",
    "                 style=\"alloc\", hue=\"alloc\", markers=True)\n",
    "g.set(xticks=[1, 2, 4, 8, 12, 16, 20, 24])\n",
    "g.legend(ncol=2)\n",
    "g.set(ylabel=\"time in ns\")\n"
   ]
  },
  {
   "cell_type": "markdown",
   "metadata": {},
   "source": [
    "# Other"
   ]
  },
  {
   "cell_type": "code",
   "execution_count": null,
   "metadata": {},
   "outputs": [],
   "source": [
    "data_al = pandas.read_csv(\"out/bench_aligned.csv\")\n",
    "data_al[\"align\"] = True\n",
    "data_un = pandas.read_csv(\"out/bench_unaligned.csv\")\n",
    "data_un[\"align\"] = False\n",
    "\n",
    "data = pandas.concat([data_al, data_un], ignore_index=True)\n",
    "data = data[data[\"alloc\"] == \"StackAlloc\"]\n",
    "\n",
    "data = data[[\"threads\", \"align\", \"get_avg\", \"put_avg\"]].melt(\n",
    "    id_vars=[\"threads\", \"align\"], value_vars=[\"get_avg\", \"put_avg\"], value_name=\"cycles\")\n",
    "\n",
    "sns.lineplot(data=data, x=\"threads\", y=\"cycles\",\n",
    "             hue=\"align\", style=\"variable\", markers=True)\n"
   ]
  }
 ],
 "metadata": {
  "interpreter": {
   "hash": "916dbcbb3f70747c44a77c7bcd40155683ae19c65e1c03b4aa3499c5328201f1"
  },
  "kernelspec": {
   "display_name": "Python 3",
   "language": "python",
   "name": "python3"
  },
  "language_info": {
   "codemirror_mode": {
    "name": "ipython",
    "version": 3
   },
   "file_extension": ".py",
   "mimetype": "text/x-python",
   "name": "python",
   "nbconvert_exporter": "python",
   "pygments_lexer": "ipython3",
   "version": "3.10.2"
  },
  "orig_nbformat": 4
 },
 "nbformat": 4,
 "nbformat_minor": 2
}
