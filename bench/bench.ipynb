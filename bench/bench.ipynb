{
 "cells": [
  {
   "cell_type": "code",
   "execution_count": null,
   "metadata": {},
   "outputs": [],
   "source": [
    "import pandas\n",
    "import seaborn as sns\n",
    "\n",
    "sns.set_style(\"whitegrid\")\n",
    "sns.set_context(\"poster\", font_scale=0.75)\n",
    "sns.set_palette(\"colorblind\")\n",
    "\n",
    "alloc_order = [\"Table\", \"ArrayAligned\", \"ArrayLocked\",\n",
    "               \"ArrayAtomic\", \"ListLocal\", \"ListLocked\", \"Kernel\"]\n"
   ]
  },
  {
   "cell_type": "markdown",
   "metadata": {},
   "source": [
    "## Kernel Allocator"
   ]
  },
  {
   "cell_type": "code",
   "execution_count": null,
   "metadata": {},
   "outputs": [],
   "source": [
    "r0 = pandas.read_csv(\"keep/remote/kernel_bulk.csv\")\n",
    "r0[\"alloc\"] = \"KernelBulk\"\n",
    "r1 = pandas.read_csv(\"keep/remote/kernel_repeat.csv\")\n",
    "r1[\"alloc\"] = \"KernelRepeat\"\n",
    "r2 = pandas.read_csv(\"keep/remote/kernel_rand.csv\")\n",
    "r2[\"alloc\"] = \"KernelRand\"\n",
    "pgd = pandas.concat([r0, r1, r2], ignore_index=True)\n",
    "pgd[\"cores\"] = pgd[\"x\"]\n",
    "# pgd = pgd.groupby([\"x\", \"alloc\"]).min()\n",
    "g = sns.lineplot(data=pgd, x=\"cores\", y=\"get_avg\",\n",
    "                 style=\"alloc\", hue=\"alloc\", markers=True)\n",
    "g.set(xticks=[1, 16, 32, 48, 64, 80, 96])\n",
    "g.set(ylim=(0, 3500))\n",
    "g.set(ylabel=\"time in ns\")\n",
    "g.legend()\n"
   ]
  },
  {
   "cell_type": "markdown",
   "metadata": {},
   "source": [
    "# Other"
   ]
  },
  {
   "cell_type": "code",
   "execution_count": null,
   "metadata": {},
   "outputs": [],
   "source": [
    "pgd = pandas.read_csv(\"remote_3/align_p.csv\")\n",
    "\n",
    "pgd[\"cores\"] = pgd[\"x\"]\n",
    "pgd[\"get\"] = pgd[\"get_avg\"]\n",
    "pgd[\"put\"] = pgd[\"put_avg\"]\n",
    "pgd = pgd[[\"cores\", \"get\", \"put\", \"alloc\"]].melt(\n",
    "    id_vars=[\"cores\", \"alloc\"],\n",
    "    value_vars=[\"get\", \"put\"], value_name=\"time\")\n",
    "# pgd = pgd.groupby([\"cores\", \"variable\", \"alloc\"]).min()\n",
    "g = sns.relplot(data=pgd, kind=\"line\", x=\"cores\", y=\"time\",\n",
    "                col=\"variable\", style=\"alloc\", hue=\"alloc\", markers=True)\n",
    "g.set(xticks=[1, 16, 32, 48, 64, 80, 96])\n",
    "# g.set(xticks=[1, 2, 4, 6, 8, 10])\n",
    "g.set(ylabel=\"time in ns\")\n",
    "g.set(xlabel=\"cores\")\n",
    "g.set_titles(\"{col_name}\")\n",
    "g.legend.set_title(\"\")\n",
    "g.savefig(\"../../text/thesis/plot/false-sharing.pdf\")\n"
   ]
  }
 ],
 "metadata": {
  "interpreter": {
   "hash": "916dbcbb3f70747c44a77c7bcd40155683ae19c65e1c03b4aa3499c5328201f1"
  },
  "kernelspec": {
   "display_name": "Python 3",
   "language": "python",
   "name": "python3"
  },
  "language_info": {
   "codemirror_mode": {
    "name": "ipython",
    "version": 3
   },
   "file_extension": ".py",
   "mimetype": "text/x-python",
   "name": "python",
   "nbconvert_exporter": "python",
   "pygments_lexer": "ipython3",
   "version": "3.10.2"
  },
  "orig_nbformat": 4
 },
 "nbformat": 4,
 "nbformat_minor": 2
}
