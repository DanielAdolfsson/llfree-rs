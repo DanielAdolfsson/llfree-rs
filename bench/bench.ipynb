{
 "cells": [
  {
   "cell_type": "code",
   "execution_count": null,
   "metadata": {},
   "outputs": [],
   "source": [
    "import pandas\n",
    "import seaborn as sns"
   ]
  },
  {
   "cell_type": "code",
   "execution_count": null,
   "metadata": {},
   "outputs": [],
   "source": [
    "data = pandas.read_csv(\"bench.csv\")\n",
    "data"
   ]
  },
  {
   "cell_type": "code",
   "execution_count": null,
   "metadata": {},
   "outputs": [],
   "source": [
    "data = data[data[\"alloc\"] != \"MallocAlloc\"]\n",
    "sns.lineplot(data=data, x=\"threads\", y=\"get_avg\", hue=\"alloc\",\n",
    "             style=\"alloc\", markers=True, dashes=False)\n",
    "sns.lineplot(data=data, x=\"threads\", y=\"put_avg\", hue=\"alloc\",\n",
    "             style=\"alloc\", markers=False, dashes=True)"
   ]
  },
  {
   "cell_type": "code",
   "execution_count": null,
   "metadata": {},
   "outputs": [],
   "source": [
    "data_s1 = pandas.read_csv(\"bench_stride_1.csv\")\n",
    "data_s1[\"stride\"] = 1\n",
    "data_s2 = pandas.read_csv(\"bench_stride_2.csv\")\n",
    "data_s2[\"stride\"] = 2\n",
    "data = data_s1.append(data_s2, ignore_index=True)\n",
    "\n",
    "sns.catplot(data=data, x=\"stride\", y=\"get_avg\", col=\"alloc\", kind=\"boxen\")"
   ]
  }
 ],
 "metadata": {
  "interpreter": {
   "hash": "916dbcbb3f70747c44a77c7bcd40155683ae19c65e1c03b4aa3499c5328201f1"
  },
  "kernelspec": {
   "display_name": "Python 3.9.5 64-bit",
   "language": "python",
   "name": "python3"
  },
  "language_info": {
   "codemirror_mode": {
    "name": "ipython",
    "version": 3
   },
   "file_extension": ".py",
   "mimetype": "text/x-python",
   "name": "python",
   "nbconvert_exporter": "python",
   "pygments_lexer": "ipython3",
   "version": "3.9.7"
  },
  "orig_nbformat": 4
 },
 "nbformat": 4,
 "nbformat_minor": 2
}
