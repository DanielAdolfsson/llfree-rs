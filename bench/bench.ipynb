{
 "cells": [
  {
   "cell_type": "code",
   "execution_count": null,
   "metadata": {},
   "outputs": [],
   "source": [
    "import pandas\n",
    "import seaborn as sns\n",
    "\n",
    "sns.set(style=\"ticks\")\n",
    "sns.set_style(\"darkgrid\")\n",
    "# sns.set_context(\"paper\")\n",
    "sns.set_palette(\"colorblind\")\n"
   ]
  },
  {
   "cell_type": "code",
   "execution_count": null,
   "metadata": {},
   "outputs": [],
   "source": [
    "pgd = pandas.read_csv(\"remote/bench_s2.csv\")\n",
    "pgd = pgd[[\"threads\", \"alloc\", \"get_avg\", \"put_avg\"]\n",
    "          ].melt(id_vars=[\"threads\", \"alloc\"], value_vars=[\"get_avg\", \"put_avg\"], value_name=\"cycles\")\n",
    "g = sns.relplot(data=pgd, kind=\"line\", x=\"threads\", y=\"cycles\",\n",
    "                col=\"variable\", style=\"alloc\", hue=\"alloc\", markers=True)\n",
    "g.set(xticks=[1, 2, 4, 8, 12, 16, 20, 24])\n"
   ]
  },
  {
   "cell_type": "code",
   "execution_count": null,
   "metadata": {},
   "outputs": [],
   "source": [
    "pgd = pandas.read_csv(\"remote/bench_s2_d.csv\")\n",
    "pgd = pgd.append(pandas.read_csv(\"remote/kernel_d.csv\"))\n",
    "pgd = pgd[[\"threads\", \"alloc\", \"get_avg\", \"put_avg\"]\n",
    "          ].melt(id_vars=[\"threads\", \"alloc\"], value_vars=[\"get_avg\", \"put_avg\"], value_name=\"cycles\")\n",
    "g = sns.relplot(data=pgd, kind=\"line\", x=\"threads\", y=\"cycles\",\n",
    "                col=\"variable\", style=\"alloc\", hue=\"alloc\", markers=True)\n",
    "g.set(xticks=[1, 2, 4, 8, 12, 16, 20, 24])\n"
   ]
  },
  {
   "cell_type": "code",
   "execution_count": null,
   "metadata": {},
   "outputs": [],
   "source": [
    "pgd = pandas.read_csv(\"remote/bench_s2_r.csv\")\n",
    "pgd = pgd[[\"threads\", \"alloc\", \"get_avg\", \"put_avg\"]\n",
    "          ].melt(id_vars=[\"threads\", \"alloc\"], value_vars=[\"get_avg\", \"put_avg\"], value_name=\"cycles\")\n",
    "g = sns.relplot(data=pgd, kind=\"line\", x=\"threads\", y=\"cycles\",\n",
    "                col=\"variable\", style=\"alloc\", hue=\"alloc\", markers=True)\n",
    "g.set(xticks=[1, 2, 4, 8, 12, 16, 20, 24])\n"
   ]
  },
  {
   "cell_type": "code",
   "execution_count": null,
   "metadata": {},
   "outputs": [],
   "source": [
    "pgd = pandas.read_csv(\"remote/bench_s2_rd.csv\")\n",
    "pgd = pgd.append(pandas.read_csv(\"remote/kernel_rd.csv\"))\n",
    "pgd = pgd[[\"threads\", \"alloc\", \"get_avg\", \"put_avg\"]\n",
    "          ].melt(id_vars=[\"threads\", \"alloc\"], value_vars=[\"get_avg\", \"put_avg\"], value_name=\"cycles\")\n",
    "g = sns.relplot(data=pgd, kind=\"line\", x=\"threads\", y=\"cycles\",\n",
    "                col=\"variable\", style=\"alloc\", hue=\"alloc\", markers=True)\n",
    "g.set(xticks=[1, 2, 4, 8, 12, 16, 20, 24])\n"
   ]
  },
  {
   "cell_type": "code",
   "execution_count": null,
   "metadata": {},
   "outputs": [],
   "source": [
    "# data_s1 = pandas.read_csv(\"bench_s1.csv\")\n",
    "# data_s1[\"stride\"] = \"1\"\n",
    "data_s2 = pandas.read_csv(\"remote/bench_s2_o.csv\")\n",
    "data_s2[\"stride\"] = \"2\"\n",
    "data_s4 = pandas.read_csv(\"remote/bench_s4_o.csv\")\n",
    "data_s4[\"stride\"] = \"4\"\n",
    "data_s = data_s2.append(data_s4, ignore_index=True)\n",
    "data_s = data_s[data_s[\"alloc\"] != \"MallocAlloc\"]\n",
    "data_s = data_s[data_s[\"alloc\"] != \"BuddyAlloc\"]\n",
    "\n",
    "data_s = data_s[[\"threads\", \"alloc\", \"stride\", \"get_avg\", \"put_avg\"]].melt(\n",
    "    id_vars=[\"threads\", \"alloc\", \"stride\"], value_vars=[\"get_avg\", \"put_avg\"], value_name=\"cycles\")\n",
    "\n",
    "g = sns.relplot(data=data_s,\n",
    "            x=\"threads\", y=\"cycles\", style=\"variable\", hue=\"stride\",\n",
    "            col=\"alloc\", kind=\"line\", markers=True)\n",
    "g.set(xticks = [1, 2, 4, 8, 12, 16, 20, 24])"
   ]
  },
  {
   "cell_type": "code",
   "execution_count": null,
   "metadata": {},
   "outputs": [],
   "source": [
    "data_al = pandas.read_csv(\"bench_aligned.csv\")\n",
    "data_al[\"align\"] = True\n",
    "data_un = pandas.read_csv(\"bench_unaligned.csv\")\n",
    "data_un[\"align\"] = False\n",
    "\n",
    "data = data_al.append(data_un, ignore_index=True)\n",
    "data = data[data[\"alloc\"] == \"StackAlloc\"]\n",
    "\n",
    "data = data[[\"threads\", \"align\", \"get_avg\", \"put_avg\"]].melt(\n",
    "    id_vars=[\"threads\", \"align\"], value_vars=[\"get_avg\", \"put_avg\"], value_name=\"cycles\")\n",
    "\n",
    "sns.lineplot(data=data, x=\"threads\", y=\"cycles\",\n",
    "             hue=\"align\", style=\"variable\", markers=True)\n"
   ]
  }
 ],
 "metadata": {
  "interpreter": {
   "hash": "916dbcbb3f70747c44a77c7bcd40155683ae19c65e1c03b4aa3499c5328201f1"
  },
  "kernelspec": {
   "display_name": "Python 3",
   "language": "python",
   "name": "python3"
  },
  "language_info": {
   "codemirror_mode": {
    "name": "ipython",
    "version": 3
   },
   "file_extension": ".py",
   "mimetype": "text/x-python",
   "name": "python",
   "nbconvert_exporter": "python",
   "pygments_lexer": "ipython3",
   "version": "3.8.10"
  },
  "orig_nbformat": 4
 },
 "nbformat": 4,
 "nbformat_minor": 2
}
