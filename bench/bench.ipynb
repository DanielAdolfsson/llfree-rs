{
 "cells": [
  {
   "cell_type": "code",
   "execution_count": null,
   "metadata": {},
   "outputs": [],
   "source": [
    "import pandas\n",
    "import seaborn as sns\n",
    "\n",
    "sns.set(style=\"ticks\")\n",
    "sns.set_style(\"darkgrid\")\n",
    "# sns.set_context(\"paper\")"
   ]
  },
  {
   "cell_type": "code",
   "execution_count": null,
   "metadata": {},
   "outputs": [],
   "source": [
    "data = pandas.read_csv(\"bench_s2.csv\")\n",
    "data"
   ]
  },
  {
   "cell_type": "code",
   "execution_count": null,
   "metadata": {},
   "outputs": [],
   "source": [
    "data = data[data[\"alloc\"] != \"MallocAlloc\"]\n",
    "\n",
    "sns.lineplot(data=data, x=\"threads\", y=\"get_avg\", hue=\"alloc\",\n",
    "             style=\"alloc\", markers=True, dashes=False)\n",
    "sns.lineplot(data=data, x=\"threads\", y=\"put_avg\", hue=\"alloc\",\n",
    "             style=\"alloc\", markers=True, dashes=[(1, 2)] * 4, legend=False)"
   ]
  },
  {
   "cell_type": "code",
   "execution_count": null,
   "metadata": {},
   "outputs": [],
   "source": [
    "data_s1 = pandas.read_csv(\"bench_s1.csv\")\n",
    "data_s1[\"stride\"] = 1\n",
    "data_s2 = pandas.read_csv(\"bench_s2.csv\")\n",
    "data_s2[\"stride\"] = 2\n",
    "data_s4 = pandas.read_csv(\"bench_s4.csv\")\n",
    "data_s4[\"stride\"] = 4\n",
    "data_s = data_s1.append(data_s2, ignore_index=True).append(\n",
    "    data_s4, ignore_index=True)\n",
    "data_s = data_s[data_s[\"alloc\"] != \"MallocAlloc\"]\n",
    "data_s = data_s[data_s[\"alloc\"] != \"BuddyAlloc\"]\n",
    "\n",
    "sns.relplot(data=data_s,\n",
    "            x=\"threads\", y=\"get_avg\", style=\"stride\", hue=\"stride\", \n",
    "            col=\"alloc\", kind=\"line\", markers=True)"
   ]
  },
  {
   "cell_type": "code",
   "execution_count": null,
   "metadata": {},
   "outputs": [],
   "source": [
    "sns.relplot(data=data_s,\n",
    "            x=\"threads\", y=\"put_avg\", style=\"stride\", hue=\"stride\", \n",
    "            col=\"alloc\", kind=\"line\", markers=True)"
   ]
  }
 ],
 "metadata": {
  "interpreter": {
   "hash": "916dbcbb3f70747c44a77c7bcd40155683ae19c65e1c03b4aa3499c5328201f1"
  },
  "kernelspec": {
   "display_name": "Python 3.9.5 64-bit",
   "language": "python",
   "name": "python3"
  },
  "language_info": {
   "codemirror_mode": {
    "name": "ipython",
    "version": 3
   },
   "file_extension": ".py",
   "mimetype": "text/x-python",
   "name": "python",
   "nbconvert_exporter": "python",
   "pygments_lexer": "ipython3",
   "version": "3.9.7"
  },
  "orig_nbformat": 4
 },
 "nbformat": 4,
 "nbformat_minor": 2
}
