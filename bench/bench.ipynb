{
 "cells": [
  {
   "cell_type": "code",
   "execution_count": null,
   "metadata": {},
   "outputs": [],
   "source": [
    "import pandas\n",
    "import seaborn as sns\n",
    "\n",
    "sns.set(style=\"ticks\")\n",
    "sns.set_style(\"darkgrid\")\n",
    "# sns.set_context(\"paper\")\n",
    "sns.set_palette(\"colorblind\")\n",
    "\n",
    "alloc_order = [\"Table\", \"ArrayAligned\", \"ArrayLocked\", \"ArrayAtomic\", \"ListLocal\", \"ListLocked\", \"Kernel\"]"
   ]
  },
  {
   "cell_type": "markdown",
   "metadata": {},
   "source": [
    "## Kernel Allocator"
   ]
  },
  {
   "cell_type": "code",
   "execution_count": null,
   "metadata": {},
   "outputs": [],
   "source": [
    "r0 = pandas.read_csv(\"remote/kernel_bulk.csv\")\n",
    "r0[\"alloc\"] = \"KernelBulk\"\n",
    "r1 = pandas.read_csv(\"remote/kernel_repeat.csv\")\n",
    "r1[\"alloc\"] = \"KernelRepeat\"\n",
    "r2 = pandas.read_csv(\"remote/kernel_rand.csv\")\n",
    "r2[\"alloc\"] = \"KernelRand\"\n",
    "pgd = pandas.concat([r0, r1, r2], ignore_index=True)\n",
    "# pgd = pgd.groupby([\"x\", \"alloc\"]).min()\n",
    "g = sns.lineplot(data=pgd, x=\"x\", y=\"get_avg\",\n",
    "                 style=\"alloc\", hue=\"alloc\", markers=True)\n",
    "g.set(xticks=[8, 16, 24, 32, 40, 48, 56, 64, 72, 80, 88, 96])\n",
    "# g.set(ylim=(0, 3200))\n",
    "g.legend(ncol=2)\n",
    "g.set(ylabel=\"time in ns\")\n"
   ]
  },
  {
   "cell_type": "markdown",
   "metadata": {},
   "source": [
    "# Other"
   ]
  },
  {
   "cell_type": "code",
   "execution_count": null,
   "metadata": {},
   "outputs": [],
   "source": [
    "data_al = pandas.read_csv(\"keep/bench_aligned.csv\")\n",
    "data_al[\"align\"] = True\n",
    "data_un = pandas.read_csv(\"keep/bench_unaligned.csv\")\n",
    "data_un[\"align\"] = False\n",
    "\n",
    "data = pandas.concat([data_al, data_un], ignore_index=True)\n",
    "data = data[data[\"alloc\"] == \"StackAlloc\"]\n",
    "\n",
    "data = data[[\"x\", \"align\", \"get_avg\", \"put_avg\"]].melt(\n",
    "    id_vars=[\"x\", \"align\"], value_vars=[\"get_avg\", \"put_avg\"], value_name=\"cycles\")\n",
    "\n",
    "ax = sns.lineplot(data=data, x=\"x\", y=\"cycles\",\n",
    "             hue=\"align\", style=\"variable\", markers=True)\n",
    "ax.set_xlabel(\"x\")\n",
    "ax.set_ylabel(\"CPU Cycles\")\n"
   ]
  }
 ],
 "metadata": {
  "interpreter": {
   "hash": "916dbcbb3f70747c44a77c7bcd40155683ae19c65e1c03b4aa3499c5328201f1"
  },
  "kernelspec": {
   "display_name": "Python 3",
   "language": "python",
   "name": "python3"
  },
  "language_info": {
   "codemirror_mode": {
    "name": "ipython",
    "version": 3
   },
   "file_extension": ".py",
   "mimetype": "text/x-python",
   "name": "python",
   "nbconvert_exporter": "python",
   "pygments_lexer": "ipython3",
   "version": "3.10.2"
  },
  "orig_nbformat": 4
 },
 "nbformat": 4,
 "nbformat_minor": 2
}
