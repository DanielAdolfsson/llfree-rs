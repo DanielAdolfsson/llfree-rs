{
 "cells": [
  {
   "cell_type": "code",
   "execution_count": null,
   "metadata": {},
   "outputs": [],
   "source": [
    "import pandas\n",
    "import seaborn as sns\n",
    "\n",
    "sns.set_style(\"whitegrid\")\n",
    "sns.set_context(\"poster\", font_scale=0.75)\n",
    "sns.set_palette(\"colorblind\")\n",
    "\n",
    "alloc_order = [\"Table\", \"ArrayAligned\", \"ArrayLocked\", \"ArrayAtomic\"]"
   ]
  },
  {
   "cell_type": "markdown",
   "metadata": {},
   "source": [
    "# Local Benchmarks"
   ]
  },
  {
   "cell_type": "markdown",
   "metadata": {},
   "source": [
    "## 4K Pages"
   ]
  },
  {
   "cell_type": "code",
   "execution_count": null,
   "metadata": {},
   "outputs": [],
   "source": [
    "pgd = pandas.read_csv(\"out/filling.csv\")\n",
    "pgd[\"x\"] *= 0.01\n",
    "pgd = pgd[[\"x\", \"alloc\", \"get_avg\", \"put_avg\"]\n",
    "          ].melt(id_vars=[\"x\", \"alloc\"], value_vars=[\"get_avg\", \"put_avg\"], value_name=\"time\")\n",
    "g = sns.relplot(data=pgd, kind=\"line\", x=\"x\", y=\"time\",\n",
    "                col=\"variable\", style=\"alloc\", hue=\"alloc\", markers=True,\n",
    "                style_order=alloc_order, hue_order=alloc_order)\n",
    "# g.set(xticks=[1, 2, 4, 6, 8, 10])\n",
    "g.set(ylim=(0, 200))\n",
    "g.set(xlabel=\"initial filling level\")\n",
    "g.set(ylabel=\"time in ns\")\n"
   ]
  },
  {
   "cell_type": "markdown",
   "metadata": {},
   "source": [
    "# Server Benchmarks"
   ]
  },
  {
   "cell_type": "code",
   "execution_count": null,
   "metadata": {},
   "outputs": [],
   "source": [
    "vd = pandas.read_csv(\"remote/filling_v.csv\")\n",
    "vd[\"mem\"] = \"DRAM\"\n",
    "pd = pandas.read_csv(\"remote/filling_p.csv\")\n",
    "pd[\"mem\"] = \"NVRAM\"\n",
    "pgd = pandas.concat([vd, pd], ignore_index=True)\n",
    "\n",
    "pgd[\"level\"] = pgd[\"x\"] * 0.01\n",
    "pgd[\"get\"] = pgd[\"get_avg\"]\n",
    "pgd[\"put\"] = pgd[\"put_avg\"]\n",
    "pgd = pgd[[\"level\", \"alloc\", \"get\", \"put\", \"mem\"]\n",
    "          ].melt(id_vars=[\"level\", \"alloc\", \"mem\"], value_vars=[\"get\", \"put\"], value_name=\"time\")\n",
    "\n",
    "g = sns.relplot(data=pgd, kind=\"line\", x=\"level\", y=\"time\",\n",
    "                row=\"variable\", col=\"mem\", style=\"alloc\", hue=\"alloc\", markers=True,\n",
    "                style_order=alloc_order, hue_order=alloc_order)\n",
    "g.set_titles(\"{row_name}, {col_name}\")\n",
    "g.legend.set_title(\"Allocator\")\n",
    "g.set(xlabel=\"initial filling level\")\n",
    "g.set(ylabel=\"time in ns\")\n",
    "g.savefig(\"../../text/thesis/plot/filling.pdf\")\n"
   ]
  }
 ],
 "metadata": {
  "interpreter": {
   "hash": "916dbcbb3f70747c44a77c7bcd40155683ae19c65e1c03b4aa3499c5328201f1"
  },
  "kernelspec": {
   "display_name": "Python 3",
   "language": "python",
   "name": "python3"
  },
  "language_info": {
   "codemirror_mode": {
    "name": "ipython",
    "version": 3
   },
   "file_extension": ".py",
   "mimetype": "text/x-python",
   "name": "python",
   "nbconvert_exporter": "python",
   "pygments_lexer": "ipython3",
   "version": "3.10.2"
  },
  "orig_nbformat": 4
 },
 "nbformat": 4,
 "nbformat_minor": 2
}
