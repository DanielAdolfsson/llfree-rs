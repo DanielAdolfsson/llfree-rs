{
 "cells": [
  {
   "cell_type": "code",
   "execution_count": null,
   "metadata": {},
   "outputs": [],
   "source": [
    "import pandas\n",
    "import seaborn as sns\n",
    "\n",
    "sns.set_style(\"whitegrid\")\n",
    "sns.set_context(\"poster\", font_scale=0.75)\n",
    "sns.set_palette(\"colorblind\")\n",
    "\n",
    "alloc_order = [\"Table\", \"ArrayAligned\", \"ArrayLocked\", \"ArrayAtomic\", \"ListLocal\", \"ListLocked\"]"
   ]
  },
  {
   "cell_type": "markdown",
   "metadata": {},
   "source": [
    "# Local Benchmarks"
   ]
  },
  {
   "cell_type": "markdown",
   "metadata": {},
   "source": [
    "## 4K Pages"
   ]
  },
  {
   "cell_type": "markdown",
   "metadata": {},
   "source": [
    "### Filling"
   ]
  },
  {
   "cell_type": "code",
   "execution_count": null,
   "metadata": {},
   "outputs": [],
   "source": [
    "pgd = pandas.read_csv(\"out/filling.csv\")\n",
    "pgd[\"x\"] *= 0.01\n",
    "pgd = pgd[[\"x\", \"alloc\", \"get_avg\", \"put_avg\"]\n",
    "          ].melt(id_vars=[\"x\", \"alloc\"], value_vars=[\"get_avg\", \"put_avg\"], value_name=\"time\")\n",
    "g = sns.relplot(data=pgd, kind=\"line\", x=\"x\", y=\"time\",\n",
    "                col=\"variable\", style=\"alloc\", hue=\"alloc\", markers=True,\n",
    "                style_order=alloc_order, hue_order=alloc_order)\n",
    "# g.set(xticks=[1, 2, 4, 6, 8, 10])\n",
    "g.set(ylim=(0, 200))\n",
    "g.set(xlabel=\"initial filling level\")\n",
    "g.set(ylabel=\"time in ns\")\n"
   ]
  },
  {
   "cell_type": "markdown",
   "metadata": {},
   "source": [
    "# Server Benchmarks"
   ]
  },
  {
   "cell_type": "markdown",
   "metadata": {},
   "source": [
    "## Filling"
   ]
  },
  {
   "cell_type": "code",
   "execution_count": null,
   "metadata": {},
   "outputs": [],
   "source": [
    "pgd = pandas.read_csv(\"remote/filling_v.csv\")\n",
    "# pgd = pgd.groupby([\"x\", \"alloc\"]).min()\n",
    "g = sns.lineplot(data=pgd, x=\"x\", y=\"get_avg\",\n",
    "                 style=\"alloc\", hue=\"alloc\", markers=True,\n",
    "                 style_order=alloc_order, hue_order=alloc_order)\n",
    "g.set(xticks=[8, 16, 24, 32, 40, 48, 56, 64, 72, 80, 88, 96])\n",
    "# g.set(ylim=(0, 3200))\n",
    "g.legend(ncol=2)\n",
    "g.set(xlabel=\"initial filling level\")\n",
    "g.set(ylabel=\"time in ns\")\n"
   ]
  },
  {
   "cell_type": "code",
   "execution_count": null,
   "metadata": {},
   "outputs": [],
   "source": [
    "pgd = pandas.read_csv(\"remote/filling_p.csv\")\n",
    "# pgd = pgd.groupby([\"x\", \"alloc\"]).min()\n",
    "g = sns.lineplot(data=pgd, x=\"x\", y=\"get_avg\",\n",
    "                 style=\"alloc\", hue=\"alloc\", markers=True,\n",
    "                 style_order=alloc_order, hue_order=alloc_order)\n",
    "g.set(xticks=[4, 8, 12, 16])\n",
    "g.set(ylim=(0, 7500))\n",
    "g.set(xlim=(0, 17))\n",
    "g.legend(ncol=2)\n",
    "g.set(xlabel=\"initial filling level\")\n",
    "g.set(ylabel=\"time in ns\")\n"
   ]
  }
 ],
 "metadata": {
  "interpreter": {
   "hash": "916dbcbb3f70747c44a77c7bcd40155683ae19c65e1c03b4aa3499c5328201f1"
  },
  "kernelspec": {
   "display_name": "Python 3",
   "language": "python",
   "name": "python3"
  },
  "language_info": {
   "codemirror_mode": {
    "name": "ipython",
    "version": 3
   },
   "file_extension": ".py",
   "mimetype": "text/x-python",
   "name": "python",
   "nbconvert_exporter": "python",
   "pygments_lexer": "ipython3",
   "version": "3.10.2"
  },
  "orig_nbformat": 4
 },
 "nbformat": 4,
 "nbformat_minor": 2
}
