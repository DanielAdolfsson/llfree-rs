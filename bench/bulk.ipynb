{
 "cells": [
  {
   "cell_type": "code",
   "execution_count": null,
   "metadata": {},
   "outputs": [],
   "source": [
    "import pandas\n",
    "import seaborn as sns\n",
    "\n",
    "sns.set_style(\"whitegrid\")\n",
    "sns.set_context(\"poster\", font_scale=0.75)\n",
    "sns.set_palette(\"colorblind\")\n",
    "\n",
    "alloc_order = [\"Table\", \"ArrayAligned\", \"ArrayLocked\", \"ArrayAtomic\", \"ListLocal\", \"ListLocked\", \"Kernel\"]"
   ]
  },
  {
   "cell_type": "markdown",
   "metadata": {},
   "source": [
    "# Local Benchmarks"
   ]
  },
  {
   "cell_type": "markdown",
   "metadata": {},
   "source": [
    "## 4K Pages"
   ]
  },
  {
   "cell_type": "code",
   "execution_count": null,
   "metadata": {},
   "outputs": [],
   "source": [
    "pgd = pandas.concat([\n",
    "    pandas.read_csv(\"out/bulk.csv\"),\n",
    "    pandas.read_csv(\"keep/kernel_bulk.csv\"),\n",
    "])\n",
    "# print(\"pages:\", pgd[\"pages\"][0])\n",
    "pgd = pgd[[\"x\", \"alloc\", \"get_avg\", \"put_avg\"]\n",
    "          ].melt(id_vars=[\"x\", \"alloc\"], value_vars=[\"get_avg\", \"put_avg\"], value_name=\"time\")\n",
    "g = sns.relplot(data=pgd, kind=\"line\", x=\"x\", y=\"time\",\n",
    "                col=\"variable\", style=\"alloc\", hue=\"alloc\", markers=True,\n",
    "                style_order=alloc_order, hue_order=alloc_order)\n",
    "g.set(xticks=[1, 2, 4, 6, 8, 10])\n",
    "g.set(ylim=(0, 450))\n",
    "g.set(ylabel=\"time in ns\")\n",
    "g.set(xlabel=\"cores\")\n",
    "g.set_titles(\"{col_name}\")\n",
    "g.legend.set_title(\"Allocator\")\n"
   ]
  },
  {
   "cell_type": "code",
   "execution_count": null,
   "metadata": {},
   "outputs": [],
   "source": [
    "pgd = pandas.concat([\n",
    "    pandas.read_csv(\"out/bulk.csv\"),\n",
    "    pandas.read_csv(\"keep/kernel_bulk.csv\"),\n",
    "])\n",
    "pgd[\"get_avg\"] = 10**9 / pgd[\"get_avg\"]\n",
    "pgd[\"put_avg\"] = 10**9 / pgd[\"put_avg\"]\n",
    "pgd = pgd[[\"x\", \"alloc\", \"get_avg\", \"put_avg\"]\n",
    "          ].melt(id_vars=[\"x\", \"alloc\"], value_vars=[\"get_avg\", \"put_avg\"], value_name=\"ops\")\n",
    "g = sns.relplot(data=pgd, kind=\"line\", x=\"x\", y=\"ops\",\n",
    "                col=\"variable\", style=\"alloc\", hue=\"alloc\", markers=True,\n",
    "                style_order=alloc_order, hue_order=alloc_order)\n",
    "g.set(xticks=[1, 2, 4, 6, 8, 10])\n",
    "g.set(ylabel=\"IO operations / thread / s\")\n",
    "g.set(xlabel=\"cores\")\n",
    "g.set_titles(\"{col_name}\")\n",
    "g.legend.set_title(\"Allocator\")\n"
   ]
  },
  {
   "cell_type": "markdown",
   "metadata": {},
   "source": [
    "## 2M Pages"
   ]
  },
  {
   "cell_type": "code",
   "execution_count": null,
   "metadata": {},
   "outputs": [],
   "source": [
    "pgd = pandas.read_csv(\"old/bulk_s1.csv\")\n",
    "print(\"allocs:\", pgd[\"allocs\"][0])\n",
    "pgd = pgd[[\"x\", \"alloc\", \"get_avg\", \"put_avg\"]\n",
    "          ].melt(id_vars=[\"x\", \"alloc\"], value_vars=[\"get_avg\", \"put_avg\"], value_name=\"time\")\n",
    "g = sns.relplot(data=pgd, kind=\"line\", x=\"x\", y=\"time\",\n",
    "                col=\"variable\", style=\"alloc\", hue=\"alloc\", markers=True,\n",
    "                style_order=alloc_order, hue_order=alloc_order)\n",
    "g.set(xticks=[1, 2, 4, 6, 8, 10])\n",
    "g.set(ylim=(0, 100))\n",
    "g.set(ylabel=\"time in ns\")\n",
    "g.set(xlabel=\"cores\")\n",
    "g.set_titles(\"{col_name}\")\n"
   ]
  },
  {
   "cell_type": "markdown",
   "metadata": {},
   "source": [
    "# Server Benchmarks"
   ]
  },
  {
   "cell_type": "code",
   "execution_count": null,
   "metadata": {},
   "outputs": [],
   "source": [
    "vd = pandas.concat([\n",
    "    pandas.read_csv(\"remote/bulk_v.csv\"),\n",
    "    pandas.read_csv(\"keep/remote/kernel_bulk.csv\")\n",
    "])\n",
    "vd[\"mem\"] = \"DRAM\"\n",
    "\n",
    "pd = pandas.read_csv(\"remote/bulk_p.csv\")\n",
    "pd[\"mem\"] = \"NVRAM\"\n",
    "\n",
    "pgd = pandas.concat([vd, pd], ignore_index=True)\n",
    "pgd[\"cores\"] = pgd[\"x\"]\n",
    "\n",
    "pgd[\"get\"] = pgd[\"get_avg\"]\n",
    "pgd[\"put\"] = pgd[\"put_avg\"]\n",
    "pgd = pgd[[\"cores\", \"alloc\", \"get\", \"put\", \"mem\"]].melt(\n",
    "    id_vars=[\"cores\", \"alloc\", \"mem\"],\n",
    "    value_vars=[\"get\", \"put\"], value_name=\"time\")\n",
    "# pgd = pgd.groupby([\"cores\", \"alloc\", \"variable\", \"mem\"]).min()\n",
    "g = sns.relplot(data=pgd, kind=\"line\", x=\"cores\", y=\"time\",\n",
    "                row=\"variable\", col=\"mem\", style=\"alloc\", hue=\"alloc\", markers=True,\n",
    "                style_order=alloc_order, hue_order=alloc_order)\n",
    "g.set(xticks=[1, 16, 32, 48, 64, 80, 96])\n",
    "g.set(ylim=(0, 1400))\n",
    "g.legend.set_title(\"Allocator\")\n",
    "g.set(ylabel=\"time in ns\")\n",
    "g.set(xlabel=\"cores\")\n",
    "g.set_titles(\"{row_name}, {col_name}\")\n",
    "g.savefig(\"../../text/thesis/plot/bulk.pdf\")\n"
   ]
  },
  {
   "cell_type": "code",
   "execution_count": null,
   "metadata": {},
   "outputs": [],
   "source": [
    "pgd = pandas.concat([\n",
    "    pandas.read_csv(\"remote/bulk_v.csv\"),\n",
    "    pandas.read_csv(\"keep/remote/kernel_bulk.csv\")\n",
    "])\n",
    "pgd[\"get\"] = pgd[\"get_avg\"]\n",
    "pgd[\"put\"] = pgd[\"put_avg\"]\n",
    "pgd = pgd[[\"x\", \"alloc\", \"get\", \"put\"]\n",
    "          ].melt(id_vars=[\"x\", \"alloc\"], value_vars=[\"get\", \"put\"], value_name=\"time\")\n",
    "pgd[\"cores\"] = pgd[\"x\"]\n",
    "# pgd = pgd.groupby([\"cores\", \"alloc\", \"variable\"]).min()\n",
    "g = sns.relplot(data=pgd, kind=\"line\", x=\"cores\", y=\"time\",\n",
    "                col=\"variable\", style=\"alloc\", hue=\"alloc\", markers=True,\n",
    "                style_order=alloc_order, hue_order=alloc_order)\n",
    "g.set(xticks=[1, 4, 8, 12, 16])\n",
    "g.set(ylabel=\"time in ns\")\n",
    "g.set(xlabel=\"cores\")\n",
    "g.set(ylim=(0, 300))\n",
    "g.set(xlim=(0, 18))\n",
    "g.set_titles(\"{col_name}\")\n",
    "g.legend.set_title(\"Allocator\")\n",
    "g.savefig(\"../../text/thesis/plot/bulk-zoom.pdf\")\n"
   ]
  },
  {
   "cell_type": "code",
   "execution_count": null,
   "metadata": {},
   "outputs": [],
   "source": [
    "vd = pandas.concat([\n",
    "    pandas.read_csv(\"remote/bulk_v.csv\"),\n",
    "    pandas.read_csv(\"keep/remote/kernel_bulk.csv\")\n",
    "])\n",
    "vd[\"mem\"] = \"DRAM\"\n",
    "\n",
    "pd = pandas.read_csv(\"remote/bulk_p.csv\")\n",
    "pd[\"mem\"] = \"NVRAM\"\n",
    "\n",
    "pgd = pandas.concat([vd, pd], ignore_index=True)\n",
    "pgd[\"cores\"] = pgd[\"x\"]\n",
    "pgd[\"get\"] = pgd[\"get_avg\"]\n",
    "pgd[\"put\"] = pgd[\"put_avg\"]\n",
    "pgd = pgd[[\"cores\", \"alloc\", \"get\", \"put\", \"mem\"]].melt(\n",
    "    id_vars=[\"cores\", \"alloc\", \"mem\"],\n",
    "    value_vars=[\"get\", \"put\"], value_name=\"time\")\n",
    "# pgd = pgd.groupby([\"cores\", \"alloc\", \"variable\", \"mem\"]).min()\n",
    "order = [\"Table\", \"ArrayAtomic\", \"ListLocal\", \"Kernel\"]\n",
    "g = sns.relplot(data=pgd, kind=\"line\", x=\"cores\", y=\"time\",\n",
    "                row=\"variable\", col=\"mem\", style=\"alloc\", hue=\"alloc\", markers=True,\n",
    "                style_order=order, hue_order=order)\n",
    "g.set(xticks=[1, 16, 32, 48, 64, 80, 96])\n",
    "g.set(ylim=(0, 1400))\n",
    "g.legend.set_title(\"Allocator\")\n",
    "g.set(ylabel=\"time in ns\")\n",
    "g.set(xlabel=\"cores\")\n",
    "g.set_titles(\"{row_name}, {col_name}\")\n",
    "g.savefig(\"../../presentation/plot/bulk.pdf\")\n"
   ]
  }
 ],
 "metadata": {
  "interpreter": {
   "hash": "916dbcbb3f70747c44a77c7bcd40155683ae19c65e1c03b4aa3499c5328201f1"
  },
  "kernelspec": {
   "display_name": "Python 3",
   "language": "python",
   "name": "python3"
  },
  "language_info": {
   "codemirror_mode": {
    "name": "ipython",
    "version": 3
   },
   "file_extension": ".py",
   "mimetype": "text/x-python",
   "name": "python",
   "nbconvert_exporter": "python",
   "pygments_lexer": "ipython3",
   "version": "3.10.2"
  },
  "orig_nbformat": 4
 },
 "nbformat": 4,
 "nbformat_minor": 2
}
